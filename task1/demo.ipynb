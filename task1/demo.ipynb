{
 "cells": [
  {
   "cell_type": "code",
   "execution_count": 1,
   "metadata": {},
   "outputs": [],
   "source": [
    "from inference import classify_entities"
   ]
  },
  {
   "cell_type": "code",
   "execution_count": 2,
   "metadata": {},
   "outputs": [
    {
     "name": "stdout",
     "output_type": "stream",
     "text": [
      "[{'entity': 'B-MNT', 'score': 0.99990416, 'index': 1, 'word': 'Mount', 'start': 0, 'end': 5}, {'entity': 'I-MNT', 'score': 0.9999465, 'index': 2, 'word': 'Everest', 'start': 6, 'end': 13}]\n"
     ]
    }
   ],
   "source": [
    "example = 'Mount Everest is the highest peak in the world.'\n",
    "\n",
    "entities = classify_entities(example)\n",
    "\n",
    "print(entities)\n"
   ]
  },
  {
   "cell_type": "code",
   "execution_count": 5,
   "metadata": {},
   "outputs": [
    {
     "name": "stdout",
     "output_type": "stream",
     "text": [
      "[{'entity': 'B-MNT', 'score': 0.94569767, 'index': 5, 'word': 'Everest', 'start': 24, 'end': 31}]\n"
     ]
    }
   ],
   "source": [
    "example = 'He has actually climbed Everest!'\n",
    "\n",
    "entities = classify_entities(example)\n",
    "\n",
    "print(entities)"
   ]
  },
  {
   "cell_type": "code",
   "execution_count": 7,
   "metadata": {},
   "outputs": [
    {
     "name": "stdout",
     "output_type": "stream",
     "text": [
      "[{'entity': 'B-MNT', 'score': 0.97194403, 'index': 8, 'word': 'Eva', 'start': 35, 'end': 38}, {'entity': 'B-MNT', 'score': 0.8480202, 'index': 9, 'word': '##ris', 'start': 38, 'end': 41}, {'entity': 'B-MNT', 'score': 0.98270124, 'index': 10, 'word': '##is', 'start': 41, 'end': 43}]\n"
     ]
    }
   ],
   "source": [
    "example = 'What was the name of that mountain, Evarisis?'\n",
    "\n",
    "entities = classify_entities(example)\n",
    "\n",
    "print(entities)"
   ]
  },
  {
   "cell_type": "code",
   "execution_count": 22,
   "metadata": {},
   "outputs": [
    {
     "name": "stdout",
     "output_type": "stream",
     "text": [
      "[{'entity': 'B-MNT', 'score': 0.99978954, 'index': 1, 'word': 'A', 'start': 0, 'end': 1}, {'entity': 'B-MNT', 'score': 0.99963796, 'index': 2, 'word': '##bra', 'start': 1, 'end': 4}, {'entity': 'B-MNT', 'score': 0.9982216, 'index': 3, 'word': '##ka', 'start': 4, 'end': 6}, {'entity': 'B-MNT', 'score': 0.9989573, 'index': 4, 'word': '##da', 'start': 6, 'end': 8}, {'entity': 'B-MNT', 'score': 0.99959666, 'index': 5, 'word': '##bra', 'start': 8, 'end': 11}]\n"
     ]
    }
   ],
   "source": [
    "example = 'Abrakadabra is not a mountain'\n",
    "\n",
    "entities = classify_entities(example)\n",
    "\n",
    "print(entities)"
   ]
  }
 ],
 "metadata": {
  "kernelspec": {
   "display_name": "Python 3",
   "language": "python",
   "name": "python3"
  },
  "language_info": {
   "codemirror_mode": {
    "name": "ipython",
    "version": 3
   },
   "file_extension": ".py",
   "mimetype": "text/x-python",
   "name": "python",
   "nbconvert_exporter": "python",
   "pygments_lexer": "ipython3",
   "version": "3.8.10"
  }
 },
 "nbformat": 4,
 "nbformat_minor": 2
}
